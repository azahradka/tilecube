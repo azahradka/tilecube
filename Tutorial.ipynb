{
 "cells": [
  {
   "cell_type": "code",
   "execution_count": 4,
   "id": "1f7f3461-a0be-4395-b54e-28a8c5ddd320",
   "metadata": {},
   "outputs": [],
   "source": [
    "from ipyleaflet import Map, TileLayer, basemaps"
   ]
  },
  {
   "cell_type": "code",
   "execution_count": 13,
   "id": "560b9fc2-1adc-4299-a0b8-c1620e7716c3",
   "metadata": {},
   "outputs": [],
   "source": [
    "m = Map(basemap=basemaps.OpenStreetMap.Mapnik, zoom=0)\n",
    "\n",
    "layer = TileLayer(url='http://localhost:5000/2/{z}/{x}/{y}.png')\n",
    "m.add_layer(layer)"
   ]
  },
  {
   "cell_type": "code",
   "execution_count": 14,
   "id": "bd9f62bc-28e3-4b5d-9681-5cb704842f2e",
   "metadata": {},
   "outputs": [
    {
     "data": {
      "application/vnd.jupyter.widget-view+json": {
       "model_id": "462c43f373264cdd88dceafa9835355d",
       "version_major": 2,
       "version_minor": 0
      },
      "text/plain": [
       "Map(center=[0.0, 0.0], controls=(ZoomControl(options=['position', 'zoom_in_text', 'zoom_in_title', 'zoom_out_t…"
      ]
     },
     "metadata": {},
     "output_type": "display_data"
    }
   ],
   "source": [
    "display(m)"
   ]
  },
  {
   "cell_type": "code",
   "execution_count": null,
   "id": "a6af593b-bb4f-4cb5-8bde-abe9dcbce46e",
   "metadata": {},
   "outputs": [],
   "source": []
  }
 ],
 "metadata": {
  "kernelspec": {
   "display_name": "Python 3",
   "language": "python",
   "name": "python3"
  },
  "language_info": {
   "codemirror_mode": {
    "name": "ipython",
    "version": 3
   },
   "file_extension": ".py",
   "mimetype": "text/x-python",
   "name": "python",
   "nbconvert_exporter": "python",
   "pygments_lexer": "ipython3",
   "version": "3.9.4"
  }
 },
 "nbformat": 4,
 "nbformat_minor": 5
}
