{
 "cells": [
  {
   "cell_type": "code",
   "execution_count": 1,
   "id": "1f7f3461-a0be-4395-b54e-28a8c5ddd320",
   "metadata": {},
   "outputs": [],
   "source": [
    "from ipyleaflet import Map, TileLayer, WidgetControl, basemaps\n",
    "from ipywidgets import IntSlider, jslink"
   ]
  },
  {
   "cell_type": "code",
   "execution_count": 4,
   "id": "560b9fc2-1adc-4299-a0b8-c1620e7716c3",
   "metadata": {},
   "outputs": [
    {
     "data": {
      "application/vnd.jupyter.widget-view+json": {
       "model_id": "db631c3382334ca8a55a0a3b723035c0",
       "version_major": 2,
       "version_minor": 0
      },
      "text/plain": [
       "Map(center=[0.0, 0.0], controls=(ZoomControl(options=['position', 'zoom_in_text', 'zoom_in_title', 'zoom_out_t…"
      ]
     },
     "metadata": {},
     "output_type": "display_data"
    }
   ],
   "source": [
    "m = Map(basemap=basemaps.OpenStreetMap.Mapnik, zoom=0)\n",
    "layer = TileLayer(url='http://localhost:5000/2/{z}/{x}/{y}.png')\n",
    "m.add_layer(layer)\n",
    "\n",
    "def update_time(change):\n",
    "    url = 'http://localhost:5000/' + str(time_slider.value) + '/{z}/{x}/{y}.png'\n",
    "    print(url)\n",
    "    layer.url = url\n",
    "\n",
    "time_slider = IntSlider(description='Time Step:', min=0, max=2920, value=0)\n",
    "time_slider.observe(update_time, 'value')\n",
    "# jslink((time_slider, 'value'), (layer, 'url'))\n",
    "time_control = WidgetControl(widget=time_slider, position='topright')\n",
    "m.add_control(time_control) \n",
    "\n",
    "m"
   ]
  },
  {
   "cell_type": "code",
   "execution_count": null,
   "id": "a6af593b-bb4f-4cb5-8bde-abe9dcbce46e",
   "metadata": {},
   "outputs": [],
   "source": []
  }
 ],
 "metadata": {
  "kernelspec": {
   "display_name": "Python 3",
   "language": "python",
   "name": "python3"
  },
  "language_info": {
   "codemirror_mode": {
    "name": "ipython",
    "version": 3
   },
   "file_extension": ".py",
   "mimetype": "text/x-python",
   "name": "python",
   "nbconvert_exporter": "python",
   "pygments_lexer": "ipython3",
   "version": "3.9.4"
  }
 },
 "nbformat": 4,
 "nbformat_minor": 5
}
