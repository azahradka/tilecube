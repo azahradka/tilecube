{
 "cells": [
  {
   "cell_type": "raw",
   "id": "ef358e93-7ea2-49d0-a5a4-4bf0e37906a6",
   "metadata": {},
   "source": [
    "http://xarray.pydata.org/en/stable/examples/monthly-means.html"
   ]
  },
  {
   "cell_type": "markdown",
   "id": "8cb00289-14e3-43ec-addd-b504d439195f",
   "metadata": {},
   "source": [
    "# TileCube Tutorial\n",
    "\n",
    "## TileCube: Web Map Tiling for Data Cubes\n",
    "\n"
   ]
  },
  {
   "cell_type": "code",
   "execution_count": 1,
   "id": "1f7f3461-a0be-4395-b54e-28a8c5ddd320",
   "metadata": {},
   "outputs": [],
   "source": [
    "from ipyleaflet import Map, TileLayer, WidgetControl, basemaps\n",
    "from ipywidgets import IntSlider, jslink\n",
    "import matplotlib.pyplot as plt\n",
    "import xarray as xr\n",
    "import cartopy.crs as ccrs\n",
    "%matplotlib inline"
   ]
  },
  {
   "cell_type": "code",
   "execution_count": 2,
   "id": "fa55b37a-94a0-41e8-b192-b795eb054125",
   "metadata": {},
   "outputs": [],
   "source": [
    "import tilecube"
   ]
  },
  {
   "cell_type": "code",
   "execution_count": 3,
   "id": "edf63143-d8b5-46ad-af04-35cf15e586c7",
   "metadata": {},
   "outputs": [
    {
     "data": {
      "text/html": [
       "<div><svg style=\"position: absolute; width: 0; height: 0; overflow: hidden\">\n",
       "<defs>\n",
       "<symbol id=\"icon-database\" viewBox=\"0 0 32 32\">\n",
       "<path d=\"M16 0c-8.837 0-16 2.239-16 5v4c0 2.761 7.163 5 16 5s16-2.239 16-5v-4c0-2.761-7.163-5-16-5z\"></path>\n",
       "<path d=\"M16 17c-8.837 0-16-2.239-16-5v6c0 2.761 7.163 5 16 5s16-2.239 16-5v-6c0 2.761-7.163 5-16 5z\"></path>\n",
       "<path d=\"M16 26c-8.837 0-16-2.239-16-5v6c0 2.761 7.163 5 16 5s16-2.239 16-5v-6c0 2.761-7.163 5-16 5z\"></path>\n",
       "</symbol>\n",
       "<symbol id=\"icon-file-text2\" viewBox=\"0 0 32 32\">\n",
       "<path d=\"M28.681 7.159c-0.694-0.947-1.662-2.053-2.724-3.116s-2.169-2.030-3.116-2.724c-1.612-1.182-2.393-1.319-2.841-1.319h-15.5c-1.378 0-2.5 1.121-2.5 2.5v27c0 1.378 1.122 2.5 2.5 2.5h23c1.378 0 2.5-1.122 2.5-2.5v-19.5c0-0.448-0.137-1.23-1.319-2.841zM24.543 5.457c0.959 0.959 1.712 1.825 2.268 2.543h-4.811v-4.811c0.718 0.556 1.584 1.309 2.543 2.268zM28 29.5c0 0.271-0.229 0.5-0.5 0.5h-23c-0.271 0-0.5-0.229-0.5-0.5v-27c0-0.271 0.229-0.5 0.5-0.5 0 0 15.499-0 15.5 0v7c0 0.552 0.448 1 1 1h7v19.5z\"></path>\n",
       "<path d=\"M23 26h-14c-0.552 0-1-0.448-1-1s0.448-1 1-1h14c0.552 0 1 0.448 1 1s-0.448 1-1 1z\"></path>\n",
       "<path d=\"M23 22h-14c-0.552 0-1-0.448-1-1s0.448-1 1-1h14c0.552 0 1 0.448 1 1s-0.448 1-1 1z\"></path>\n",
       "<path d=\"M23 18h-14c-0.552 0-1-0.448-1-1s0.448-1 1-1h14c0.552 0 1 0.448 1 1s-0.448 1-1 1z\"></path>\n",
       "</symbol>\n",
       "</defs>\n",
       "</svg>\n",
       "<style>/* CSS stylesheet for displaying xarray objects in jupyterlab.\n",
       " *\n",
       " */\n",
       "\n",
       ":root {\n",
       "  --xr-font-color0: var(--jp-content-font-color0, rgba(0, 0, 0, 1));\n",
       "  --xr-font-color2: var(--jp-content-font-color2, rgba(0, 0, 0, 0.54));\n",
       "  --xr-font-color3: var(--jp-content-font-color3, rgba(0, 0, 0, 0.38));\n",
       "  --xr-border-color: var(--jp-border-color2, #e0e0e0);\n",
       "  --xr-disabled-color: var(--jp-layout-color3, #bdbdbd);\n",
       "  --xr-background-color: var(--jp-layout-color0, white);\n",
       "  --xr-background-color-row-even: var(--jp-layout-color1, white);\n",
       "  --xr-background-color-row-odd: var(--jp-layout-color2, #eeeeee);\n",
       "}\n",
       "\n",
       "html[theme=dark],\n",
       "body.vscode-dark {\n",
       "  --xr-font-color0: rgba(255, 255, 255, 1);\n",
       "  --xr-font-color2: rgba(255, 255, 255, 0.54);\n",
       "  --xr-font-color3: rgba(255, 255, 255, 0.38);\n",
       "  --xr-border-color: #1F1F1F;\n",
       "  --xr-disabled-color: #515151;\n",
       "  --xr-background-color: #111111;\n",
       "  --xr-background-color-row-even: #111111;\n",
       "  --xr-background-color-row-odd: #313131;\n",
       "}\n",
       "\n",
       ".xr-wrap {\n",
       "  display: block;\n",
       "  min-width: 300px;\n",
       "  max-width: 700px;\n",
       "}\n",
       "\n",
       ".xr-text-repr-fallback {\n",
       "  /* fallback to plain text repr when CSS is not injected (untrusted notebook) */\n",
       "  display: none;\n",
       "}\n",
       "\n",
       ".xr-header {\n",
       "  padding-top: 6px;\n",
       "  padding-bottom: 6px;\n",
       "  margin-bottom: 4px;\n",
       "  border-bottom: solid 1px var(--xr-border-color);\n",
       "}\n",
       "\n",
       ".xr-header > div,\n",
       ".xr-header > ul {\n",
       "  display: inline;\n",
       "  margin-top: 0;\n",
       "  margin-bottom: 0;\n",
       "}\n",
       "\n",
       ".xr-obj-type,\n",
       ".xr-array-name {\n",
       "  margin-left: 2px;\n",
       "  margin-right: 10px;\n",
       "}\n",
       "\n",
       ".xr-obj-type {\n",
       "  color: var(--xr-font-color2);\n",
       "}\n",
       "\n",
       ".xr-sections {\n",
       "  padding-left: 0 !important;\n",
       "  display: grid;\n",
       "  grid-template-columns: 150px auto auto 1fr 20px 20px;\n",
       "}\n",
       "\n",
       ".xr-section-item {\n",
       "  display: contents;\n",
       "}\n",
       "\n",
       ".xr-section-item input {\n",
       "  display: none;\n",
       "}\n",
       "\n",
       ".xr-section-item input + label {\n",
       "  color: var(--xr-disabled-color);\n",
       "}\n",
       "\n",
       ".xr-section-item input:enabled + label {\n",
       "  cursor: pointer;\n",
       "  color: var(--xr-font-color2);\n",
       "}\n",
       "\n",
       ".xr-section-item input:enabled + label:hover {\n",
       "  color: var(--xr-font-color0);\n",
       "}\n",
       "\n",
       ".xr-section-summary {\n",
       "  grid-column: 1;\n",
       "  color: var(--xr-font-color2);\n",
       "  font-weight: 500;\n",
       "}\n",
       "\n",
       ".xr-section-summary > span {\n",
       "  display: inline-block;\n",
       "  padding-left: 0.5em;\n",
       "}\n",
       "\n",
       ".xr-section-summary-in:disabled + label {\n",
       "  color: var(--xr-font-color2);\n",
       "}\n",
       "\n",
       ".xr-section-summary-in + label:before {\n",
       "  display: inline-block;\n",
       "  content: '►';\n",
       "  font-size: 11px;\n",
       "  width: 15px;\n",
       "  text-align: center;\n",
       "}\n",
       "\n",
       ".xr-section-summary-in:disabled + label:before {\n",
       "  color: var(--xr-disabled-color);\n",
       "}\n",
       "\n",
       ".xr-section-summary-in:checked + label:before {\n",
       "  content: '▼';\n",
       "}\n",
       "\n",
       ".xr-section-summary-in:checked + label > span {\n",
       "  display: none;\n",
       "}\n",
       "\n",
       ".xr-section-summary,\n",
       ".xr-section-inline-details {\n",
       "  padding-top: 4px;\n",
       "  padding-bottom: 4px;\n",
       "}\n",
       "\n",
       ".xr-section-inline-details {\n",
       "  grid-column: 2 / -1;\n",
       "}\n",
       "\n",
       ".xr-section-details {\n",
       "  display: none;\n",
       "  grid-column: 1 / -1;\n",
       "  margin-bottom: 5px;\n",
       "}\n",
       "\n",
       ".xr-section-summary-in:checked ~ .xr-section-details {\n",
       "  display: contents;\n",
       "}\n",
       "\n",
       ".xr-array-wrap {\n",
       "  grid-column: 1 / -1;\n",
       "  display: grid;\n",
       "  grid-template-columns: 20px auto;\n",
       "}\n",
       "\n",
       ".xr-array-wrap > label {\n",
       "  grid-column: 1;\n",
       "  vertical-align: top;\n",
       "}\n",
       "\n",
       ".xr-preview {\n",
       "  color: var(--xr-font-color3);\n",
       "}\n",
       "\n",
       ".xr-array-preview,\n",
       ".xr-array-data {\n",
       "  padding: 0 5px !important;\n",
       "  grid-column: 2;\n",
       "}\n",
       "\n",
       ".xr-array-data,\n",
       ".xr-array-in:checked ~ .xr-array-preview {\n",
       "  display: none;\n",
       "}\n",
       "\n",
       ".xr-array-in:checked ~ .xr-array-data,\n",
       ".xr-array-preview {\n",
       "  display: inline-block;\n",
       "}\n",
       "\n",
       ".xr-dim-list {\n",
       "  display: inline-block !important;\n",
       "  list-style: none;\n",
       "  padding: 0 !important;\n",
       "  margin: 0;\n",
       "}\n",
       "\n",
       ".xr-dim-list li {\n",
       "  display: inline-block;\n",
       "  padding: 0;\n",
       "  margin: 0;\n",
       "}\n",
       "\n",
       ".xr-dim-list:before {\n",
       "  content: '(';\n",
       "}\n",
       "\n",
       ".xr-dim-list:after {\n",
       "  content: ')';\n",
       "}\n",
       "\n",
       ".xr-dim-list li:not(:last-child):after {\n",
       "  content: ',';\n",
       "  padding-right: 5px;\n",
       "}\n",
       "\n",
       ".xr-has-index {\n",
       "  font-weight: bold;\n",
       "}\n",
       "\n",
       ".xr-var-list,\n",
       ".xr-var-item {\n",
       "  display: contents;\n",
       "}\n",
       "\n",
       ".xr-var-item > div,\n",
       ".xr-var-item label,\n",
       ".xr-var-item > .xr-var-name span {\n",
       "  background-color: var(--xr-background-color-row-even);\n",
       "  margin-bottom: 0;\n",
       "}\n",
       "\n",
       ".xr-var-item > .xr-var-name:hover span {\n",
       "  padding-right: 5px;\n",
       "}\n",
       "\n",
       ".xr-var-list > li:nth-child(odd) > div,\n",
       ".xr-var-list > li:nth-child(odd) > label,\n",
       ".xr-var-list > li:nth-child(odd) > .xr-var-name span {\n",
       "  background-color: var(--xr-background-color-row-odd);\n",
       "}\n",
       "\n",
       ".xr-var-name {\n",
       "  grid-column: 1;\n",
       "}\n",
       "\n",
       ".xr-var-dims {\n",
       "  grid-column: 2;\n",
       "}\n",
       "\n",
       ".xr-var-dtype {\n",
       "  grid-column: 3;\n",
       "  text-align: right;\n",
       "  color: var(--xr-font-color2);\n",
       "}\n",
       "\n",
       ".xr-var-preview {\n",
       "  grid-column: 4;\n",
       "}\n",
       "\n",
       ".xr-var-name,\n",
       ".xr-var-dims,\n",
       ".xr-var-dtype,\n",
       ".xr-preview,\n",
       ".xr-attrs dt {\n",
       "  white-space: nowrap;\n",
       "  overflow: hidden;\n",
       "  text-overflow: ellipsis;\n",
       "  padding-right: 10px;\n",
       "}\n",
       "\n",
       ".xr-var-name:hover,\n",
       ".xr-var-dims:hover,\n",
       ".xr-var-dtype:hover,\n",
       ".xr-attrs dt:hover {\n",
       "  overflow: visible;\n",
       "  width: auto;\n",
       "  z-index: 1;\n",
       "}\n",
       "\n",
       ".xr-var-attrs,\n",
       ".xr-var-data {\n",
       "  display: none;\n",
       "  background-color: var(--xr-background-color) !important;\n",
       "  padding-bottom: 5px !important;\n",
       "}\n",
       "\n",
       ".xr-var-attrs-in:checked ~ .xr-var-attrs,\n",
       ".xr-var-data-in:checked ~ .xr-var-data {\n",
       "  display: block;\n",
       "}\n",
       "\n",
       ".xr-var-data > table {\n",
       "  float: right;\n",
       "}\n",
       "\n",
       ".xr-var-name span,\n",
       ".xr-var-data,\n",
       ".xr-attrs {\n",
       "  padding-left: 25px !important;\n",
       "}\n",
       "\n",
       ".xr-attrs,\n",
       ".xr-var-attrs,\n",
       ".xr-var-data {\n",
       "  grid-column: 1 / -1;\n",
       "}\n",
       "\n",
       "dl.xr-attrs {\n",
       "  padding: 0;\n",
       "  margin: 0;\n",
       "  display: grid;\n",
       "  grid-template-columns: 125px auto;\n",
       "}\n",
       "\n",
       ".xr-attrs dt,\n",
       ".xr-attrs dd {\n",
       "  padding: 0;\n",
       "  margin: 0;\n",
       "  float: left;\n",
       "  padding-right: 10px;\n",
       "  width: auto;\n",
       "}\n",
       "\n",
       ".xr-attrs dt {\n",
       "  font-weight: normal;\n",
       "  grid-column: 1;\n",
       "}\n",
       "\n",
       ".xr-attrs dt:hover span {\n",
       "  display: inline-block;\n",
       "  background: var(--xr-background-color);\n",
       "  padding-right: 10px;\n",
       "}\n",
       "\n",
       ".xr-attrs dd {\n",
       "  grid-column: 2;\n",
       "  white-space: pre-wrap;\n",
       "  word-break: break-all;\n",
       "}\n",
       "\n",
       ".xr-icon-database,\n",
       ".xr-icon-file-text2 {\n",
       "  display: inline-block;\n",
       "  vertical-align: middle;\n",
       "  width: 1em;\n",
       "  height: 1.5em !important;\n",
       "  stroke-width: 0;\n",
       "  stroke: currentColor;\n",
       "  fill: currentColor;\n",
       "}\n",
       "</style><pre class='xr-text-repr-fallback'>&lt;xarray.Dataset&gt;\n",
       "Dimensions:  (time: 36, y: 205, x: 275)\n",
       "Coordinates:\n",
       "  * time     (time) object 1980-09-16 12:00:00 ... 1983-08-17 00:00:00\n",
       "    xc       (y, x) float64 189.2 189.4 189.6 189.7 ... 17.65 17.4 17.15 16.91\n",
       "    yc       (y, x) float64 16.53 16.78 17.02 17.27 ... 28.26 28.01 27.76 27.51\n",
       "Dimensions without coordinates: y, x\n",
       "Data variables:\n",
       "    Tair     (time, y, x) float64 nan nan nan nan nan ... 29.8 28.66 28.19 28.21\n",
       "Attributes:\n",
       "    title:                     /workspace/jhamman/processed/R1002RBRxaaa01a/l...\n",
       "    institution:               U.W.\n",
       "    source:                    RACM R1002RBRxaaa01a\n",
       "    output_frequency:          daily\n",
       "    output_mode:               averaged\n",
       "    convention:                CF-1.4\n",
       "    references:                Based on the initial model of Liang et al., 19...\n",
       "    comment:                   Output from the Variable Infiltration Capacity...\n",
       "    nco_openmp_thread_number:  1\n",
       "    NCO:                       netCDF Operators version 4.7.9 (Homepage = htt...\n",
       "    history:                   Fri Aug  7 17:57:38 2020: ncatted -a bounds,,d...</pre><div class='xr-wrap' hidden><div class='xr-header'><div class='xr-obj-type'>xarray.Dataset</div></div><ul class='xr-sections'><li class='xr-section-item'><input id='section-f00a91f5-870c-44d8-9c36-794111fe4d3d' class='xr-section-summary-in' type='checkbox' disabled ><label for='section-f00a91f5-870c-44d8-9c36-794111fe4d3d' class='xr-section-summary'  title='Expand/collapse section'>Dimensions:</label><div class='xr-section-inline-details'><ul class='xr-dim-list'><li><span class='xr-has-index'>time</span>: 36</li><li><span>y</span>: 205</li><li><span>x</span>: 275</li></ul></div><div class='xr-section-details'></div></li><li class='xr-section-item'><input id='section-dd662097-eaa7-46c6-b6ab-d36a28248213' class='xr-section-summary-in' type='checkbox'  checked><label for='section-dd662097-eaa7-46c6-b6ab-d36a28248213' class='xr-section-summary' >Coordinates: <span>(3)</span></label><div class='xr-section-inline-details'></div><div class='xr-section-details'><ul class='xr-var-list'><li class='xr-var-item'><div class='xr-var-name'><span class='xr-has-index'>time</span></div><div class='xr-var-dims'>(time)</div><div class='xr-var-dtype'>object</div><div class='xr-var-preview xr-preview'>1980-09-16 12:00:00 ... 1983-08-...</div><input id='attrs-f918dd5c-a5ad-4078-84f5-44e4bcd081cd' class='xr-var-attrs-in' type='checkbox' ><label for='attrs-f918dd5c-a5ad-4078-84f5-44e4bcd081cd' title='Show/Hide attributes'><svg class='icon xr-icon-file-text2'><use xlink:href='#icon-file-text2'></use></svg></label><input id='data-5de4cd07-8e0b-499b-9f4d-5f166e27b043' class='xr-var-data-in' type='checkbox'><label for='data-5de4cd07-8e0b-499b-9f4d-5f166e27b043' title='Show/Hide data repr'><svg class='icon xr-icon-database'><use xlink:href='#icon-database'></use></svg></label><div class='xr-var-attrs'><dl class='xr-attrs'><dt><span>long_name :</span></dt><dd>time</dd><dt><span>type_preferred :</span></dt><dd>int</dd></dl></div><div class='xr-var-data'><pre>array([cftime.DatetimeNoLeap(1980, 9, 16, 12, 0, 0, 0, has_year_zero=True),\n",
       "       cftime.DatetimeNoLeap(1980, 10, 17, 0, 0, 0, 0, has_year_zero=True),\n",
       "       cftime.DatetimeNoLeap(1980, 11, 16, 12, 0, 0, 0, has_year_zero=True),\n",
       "       cftime.DatetimeNoLeap(1980, 12, 17, 0, 0, 0, 0, has_year_zero=True),\n",
       "       cftime.DatetimeNoLeap(1981, 1, 17, 0, 0, 0, 0, has_year_zero=True),\n",
       "       cftime.DatetimeNoLeap(1981, 2, 15, 12, 0, 0, 0, has_year_zero=True),\n",
       "       cftime.DatetimeNoLeap(1981, 3, 17, 0, 0, 0, 0, has_year_zero=True),\n",
       "       cftime.DatetimeNoLeap(1981, 4, 16, 12, 0, 0, 0, has_year_zero=True),\n",
       "       cftime.DatetimeNoLeap(1981, 5, 17, 0, 0, 0, 0, has_year_zero=True),\n",
       "       cftime.DatetimeNoLeap(1981, 6, 16, 12, 0, 0, 0, has_year_zero=True),\n",
       "       cftime.DatetimeNoLeap(1981, 7, 17, 0, 0, 0, 0, has_year_zero=True),\n",
       "       cftime.DatetimeNoLeap(1981, 8, 17, 0, 0, 0, 0, has_year_zero=True),\n",
       "       cftime.DatetimeNoLeap(1981, 9, 16, 12, 0, 0, 0, has_year_zero=True),\n",
       "       cftime.DatetimeNoLeap(1981, 10, 17, 0, 0, 0, 0, has_year_zero=True),\n",
       "       cftime.DatetimeNoLeap(1981, 11, 16, 12, 0, 0, 0, has_year_zero=True),\n",
       "       cftime.DatetimeNoLeap(1981, 12, 17, 0, 0, 0, 0, has_year_zero=True),\n",
       "       cftime.DatetimeNoLeap(1982, 1, 17, 0, 0, 0, 0, has_year_zero=True),\n",
       "       cftime.DatetimeNoLeap(1982, 2, 15, 12, 0, 0, 0, has_year_zero=True),\n",
       "       cftime.DatetimeNoLeap(1982, 3, 17, 0, 0, 0, 0, has_year_zero=True),\n",
       "       cftime.DatetimeNoLeap(1982, 4, 16, 12, 0, 0, 0, has_year_zero=True),\n",
       "       cftime.DatetimeNoLeap(1982, 5, 17, 0, 0, 0, 0, has_year_zero=True),\n",
       "       cftime.DatetimeNoLeap(1982, 6, 16, 12, 0, 0, 0, has_year_zero=True),\n",
       "       cftime.DatetimeNoLeap(1982, 7, 17, 0, 0, 0, 0, has_year_zero=True),\n",
       "       cftime.DatetimeNoLeap(1982, 8, 17, 0, 0, 0, 0, has_year_zero=True),\n",
       "       cftime.DatetimeNoLeap(1982, 9, 16, 12, 0, 0, 0, has_year_zero=True),\n",
       "       cftime.DatetimeNoLeap(1982, 10, 17, 0, 0, 0, 0, has_year_zero=True),\n",
       "       cftime.DatetimeNoLeap(1982, 11, 16, 12, 0, 0, 0, has_year_zero=True),\n",
       "       cftime.DatetimeNoLeap(1982, 12, 17, 0, 0, 0, 0, has_year_zero=True),\n",
       "       cftime.DatetimeNoLeap(1983, 1, 17, 0, 0, 0, 0, has_year_zero=True),\n",
       "       cftime.DatetimeNoLeap(1983, 2, 15, 12, 0, 0, 0, has_year_zero=True),\n",
       "       cftime.DatetimeNoLeap(1983, 3, 17, 0, 0, 0, 0, has_year_zero=True),\n",
       "       cftime.DatetimeNoLeap(1983, 4, 16, 12, 0, 0, 0, has_year_zero=True),\n",
       "       cftime.DatetimeNoLeap(1983, 5, 17, 0, 0, 0, 0, has_year_zero=True),\n",
       "       cftime.DatetimeNoLeap(1983, 6, 16, 12, 0, 0, 0, has_year_zero=True),\n",
       "       cftime.DatetimeNoLeap(1983, 7, 17, 0, 0, 0, 0, has_year_zero=True),\n",
       "       cftime.DatetimeNoLeap(1983, 8, 17, 0, 0, 0, 0, has_year_zero=True)],\n",
       "      dtype=object)</pre></div></li><li class='xr-var-item'><div class='xr-var-name'><span>xc</span></div><div class='xr-var-dims'>(y, x)</div><div class='xr-var-dtype'>float64</div><div class='xr-var-preview xr-preview'>189.2 189.4 189.6 ... 17.15 16.91</div><input id='attrs-0955c423-ee2a-4ff2-846f-7a84961c805a' class='xr-var-attrs-in' type='checkbox' ><label for='attrs-0955c423-ee2a-4ff2-846f-7a84961c805a' title='Show/Hide attributes'><svg class='icon xr-icon-file-text2'><use xlink:href='#icon-file-text2'></use></svg></label><input id='data-5a541acd-babd-41d7-a09d-2261aed48107' class='xr-var-data-in' type='checkbox'><label for='data-5a541acd-babd-41d7-a09d-2261aed48107' title='Show/Hide data repr'><svg class='icon xr-icon-database'><use xlink:href='#icon-database'></use></svg></label><div class='xr-var-attrs'><dl class='xr-attrs'><dt><span>long_name :</span></dt><dd>longitude of grid cell center</dd><dt><span>units :</span></dt><dd>degrees_east</dd></dl></div><div class='xr-var-data'><pre>array([[189.22293223, 189.38990916, 189.55836619, ..., 293.77906088,\n",
       "        294.0279241 , 294.27439931],\n",
       "       [188.96836986, 189.13470591, 189.30253733, ..., 294.05584005,\n",
       "        294.30444387, 294.55065969],\n",
       "       [188.71234264, 188.87800731, 189.04515208, ..., 294.335053  ,\n",
       "        294.58337453, 294.8292928 ],\n",
       "       ...,\n",
       "       [124.04724025, 123.88362026, 123.71852016, ...,  16.83171831,\n",
       "         16.58436953,  16.33949649],\n",
       "       [123.78686428, 123.62254238, 123.45672512, ...,  17.11814486,\n",
       "         16.87043749,  16.62518298],\n",
       "       [123.52798366, 123.36295986, 123.1964407 , ...,  17.40209947,\n",
       "         17.1540526 ,  16.90845095]])</pre></div></li><li class='xr-var-item'><div class='xr-var-name'><span>yc</span></div><div class='xr-var-dims'>(y, x)</div><div class='xr-var-dtype'>float64</div><div class='xr-var-preview xr-preview'>16.53 16.78 17.02 ... 27.76 27.51</div><input id='attrs-1fb5681f-7336-4464-9c4a-c6a3db5451a7' class='xr-var-attrs-in' type='checkbox' ><label for='attrs-1fb5681f-7336-4464-9c4a-c6a3db5451a7' title='Show/Hide attributes'><svg class='icon xr-icon-file-text2'><use xlink:href='#icon-file-text2'></use></svg></label><input id='data-eb3dedd6-b0c1-4d58-9009-4746e842e401' class='xr-var-data-in' type='checkbox'><label for='data-eb3dedd6-b0c1-4d58-9009-4746e842e401' title='Show/Hide data repr'><svg class='icon xr-icon-database'><use xlink:href='#icon-database'></use></svg></label><div class='xr-var-attrs'><dl class='xr-attrs'><dt><span>long_name :</span></dt><dd>latitude of grid cell center</dd><dt><span>units :</span></dt><dd>degrees_north</dd></dl></div><div class='xr-var-data'><pre>array([[16.53498637, 16.7784556 , 17.02222429, ..., 27.36301592,\n",
       "        27.11811045, 26.87289026],\n",
       "       [16.69397341, 16.93865381, 17.18364512, ..., 27.5847719 ,\n",
       "        27.33821848, 27.0913656 ],\n",
       "       [16.85219179, 17.09808909, 17.34430872, ..., 27.80584314,\n",
       "        27.55764558, 27.30915621],\n",
       "       ...,\n",
       "       [17.31179033, 17.56124674, 17.81104646, ..., 28.4502485 ,\n",
       "        28.19718339, 27.94384744],\n",
       "       [17.15589701, 17.40414034, 17.65272318, ..., 28.23129632,\n",
       "        27.97989251, 27.72821596],\n",
       "       [16.99919497, 17.24622904, 17.49358736, ..., 28.01160028,\n",
       "        27.76185586, 27.51182726]])</pre></div></li></ul></div></li><li class='xr-section-item'><input id='section-ccdd7a1c-e1f6-4353-81ac-f2422baf2c22' class='xr-section-summary-in' type='checkbox'  checked><label for='section-ccdd7a1c-e1f6-4353-81ac-f2422baf2c22' class='xr-section-summary' >Data variables: <span>(1)</span></label><div class='xr-section-inline-details'></div><div class='xr-section-details'><ul class='xr-var-list'><li class='xr-var-item'><div class='xr-var-name'><span>Tair</span></div><div class='xr-var-dims'>(time, y, x)</div><div class='xr-var-dtype'>float64</div><div class='xr-var-preview xr-preview'>nan nan nan ... 28.66 28.19 28.21</div><input id='attrs-2b4470a5-f030-4147-9f0a-ecffbf35c819' class='xr-var-attrs-in' type='checkbox' ><label for='attrs-2b4470a5-f030-4147-9f0a-ecffbf35c819' title='Show/Hide attributes'><svg class='icon xr-icon-file-text2'><use xlink:href='#icon-file-text2'></use></svg></label><input id='data-3ffdd205-2ac2-4218-8fbd-a3983aa6c629' class='xr-var-data-in' type='checkbox'><label for='data-3ffdd205-2ac2-4218-8fbd-a3983aa6c629' title='Show/Hide data repr'><svg class='icon xr-icon-database'><use xlink:href='#icon-database'></use></svg></label><div class='xr-var-attrs'><dl class='xr-attrs'><dt><span>units :</span></dt><dd>C</dd><dt><span>long_name :</span></dt><dd>Surface air temperature</dd><dt><span>type_preferred :</span></dt><dd>double</dd><dt><span>time_rep :</span></dt><dd>instantaneous</dd></dl></div><div class='xr-var-data'><pre>array([[[        nan,         nan,         nan, ...,         nan,\n",
       "                 nan,         nan],\n",
       "        [        nan,         nan,         nan, ...,         nan,\n",
       "                 nan,         nan],\n",
       "        [        nan,         nan,         nan, ...,         nan,\n",
       "                 nan,         nan],\n",
       "        ...,\n",
       "        [        nan,         nan,         nan, ..., 27.03290153,\n",
       "         27.03125761, 27.33531541],\n",
       "        [        nan,         nan,         nan, ..., 27.2784053 ,\n",
       "         26.80261869, 27.08603517],\n",
       "        [        nan,         nan,         nan, ..., 27.02344402,\n",
       "         26.56473862, 26.73064933]],\n",
       "\n",
       "       [[        nan,         nan,         nan, ...,         nan,\n",
       "                 nan,         nan],\n",
       "        [        nan,         nan,         nan, ...,         nan,\n",
       "                 nan,         nan],\n",
       "        [        nan,         nan,         nan, ...,         nan,\n",
       "                 nan,         nan],\n",
       "...\n",
       "        [        nan,         nan,         nan, ..., 27.8597472 ,\n",
       "         27.82928439, 28.09249224],\n",
       "        [        nan,         nan,         nan, ..., 27.89704094,\n",
       "         27.31104941, 27.67387171],\n",
       "        [        nan,         nan,         nan, ..., 27.46837113,\n",
       "         27.0088944 , 27.23017976]],\n",
       "\n",
       "       [[        nan,         nan,         nan, ...,         nan,\n",
       "                 nan,         nan],\n",
       "        [        nan,         nan,         nan, ...,         nan,\n",
       "                 nan,         nan],\n",
       "        [        nan,         nan,         nan, ...,         nan,\n",
       "                 nan,         nan],\n",
       "        ...,\n",
       "        [        nan,         nan,         nan, ..., 28.95929072,\n",
       "         28.87672039, 29.04890862],\n",
       "        [        nan,         nan,         nan, ..., 29.036132  ,\n",
       "         28.42273578, 28.68721201],\n",
       "        [        nan,         nan,         nan, ..., 28.66381585,\n",
       "         28.18595533, 28.20753022]]])</pre></div></li></ul></div></li><li class='xr-section-item'><input id='section-771a891c-893c-4ab9-a95f-4f9ac90ba536' class='xr-section-summary-in' type='checkbox'  ><label for='section-771a891c-893c-4ab9-a95f-4f9ac90ba536' class='xr-section-summary' >Attributes: <span>(11)</span></label><div class='xr-section-inline-details'></div><div class='xr-section-details'><dl class='xr-attrs'><dt><span>title :</span></dt><dd>/workspace/jhamman/processed/R1002RBRxaaa01a/lnd/temp/R1002RBRxaaa01a.vic.ha.1979-09-01.nc</dd><dt><span>institution :</span></dt><dd>U.W.</dd><dt><span>source :</span></dt><dd>RACM R1002RBRxaaa01a</dd><dt><span>output_frequency :</span></dt><dd>daily</dd><dt><span>output_mode :</span></dt><dd>averaged</dd><dt><span>convention :</span></dt><dd>CF-1.4</dd><dt><span>references :</span></dt><dd>Based on the initial model of Liang et al., 1994, JGR, 99, 14,415- 14,429.</dd><dt><span>comment :</span></dt><dd>Output from the Variable Infiltration Capacity (VIC) model.</dd><dt><span>nco_openmp_thread_number :</span></dt><dd>1</dd><dt><span>NCO :</span></dt><dd>netCDF Operators version 4.7.9 (Homepage = http://nco.sf.net, Code = http://github.com/nco/nco)</dd><dt><span>history :</span></dt><dd>Fri Aug  7 17:57:38 2020: ncatted -a bounds,,d,, rasm.nc\n",
       "Tue Dec 27 14:15:22 2016: ncatted -a dimensions,,d,, rasm.nc rasm.nc\n",
       "Tue Dec 27 13:38:40 2016: ncks -3 rasm.nc rasm.nc\n",
       "history deleted for brevity</dd></dl></div></li></ul></div></div>"
      ],
      "text/plain": [
       "<xarray.Dataset>\n",
       "Dimensions:  (time: 36, y: 205, x: 275)\n",
       "Coordinates:\n",
       "  * time     (time) object 1980-09-16 12:00:00 ... 1983-08-17 00:00:00\n",
       "    xc       (y, x) float64 189.2 189.4 189.6 189.7 ... 17.65 17.4 17.15 16.91\n",
       "    yc       (y, x) float64 16.53 16.78 17.02 17.27 ... 28.26 28.01 27.76 27.51\n",
       "Dimensions without coordinates: y, x\n",
       "Data variables:\n",
       "    Tair     (time, y, x) float64 nan nan nan nan nan ... 29.8 28.66 28.19 28.21\n",
       "Attributes:\n",
       "    title:                     /workspace/jhamman/processed/R1002RBRxaaa01a/l...\n",
       "    institution:               U.W.\n",
       "    source:                    RACM R1002RBRxaaa01a\n",
       "    output_frequency:          daily\n",
       "    output_mode:               averaged\n",
       "    convention:                CF-1.4\n",
       "    references:                Based on the initial model of Liang et al., 19...\n",
       "    comment:                   Output from the Variable Infiltration Capacity...\n",
       "    nco_openmp_thread_number:  1\n",
       "    NCO:                       netCDF Operators version 4.7.9 (Homepage = htt...\n",
       "    history:                   Fri Aug  7 17:57:38 2020: ncatted -a bounds,,d..."
      ]
     },
     "execution_count": 3,
     "metadata": {},
     "output_type": "execute_result"
    }
   ],
   "source": [
    "ds = xr.tutorial.open_dataset('rasm').load()\n",
    "ds"
   ]
  },
  {
   "cell_type": "code",
   "execution_count": 4,
   "id": "7f63b47b-be81-4834-a8be-96c53664341f",
   "metadata": {},
   "outputs": [
    {
     "name": "stderr",
     "output_type": "stream",
     "text": [
      "/Users/aron/opt/anaconda3/envs/sci-tiler/lib/python3.9/site-packages/cartopy/mpl/geoaxes.py:1797: MatplotlibDeprecationWarning: shading='flat' when X and Y have the same dimensions as C is deprecated since 3.3.  Either specify the corners of the quadrilaterals with X and Y, or pass shading='auto', 'nearest' or 'gouraud', or set rcParams['pcolor.shading'].  This will become an error two minor releases later.\n",
      "  result = matplotlib.axes.Axes.pcolormesh(self, *args, **kwargs)\n"
     ]
    },
    {
     "data": {
      "image/png": "[encoded data removed]",
      "text/plain": [
       "<Figure size 1008x432 with 1 Axes>"
      ]
     },
     "metadata": {
      "needs_background": "light"
     },
     "output_type": "display_data"
    }
   ],
   "source": [
    "plt.figure(figsize=(14,6))\n",
    "ax = plt.axes(projection=ccrs.PlateCarree())\n",
    "ax.set_global()\n",
    "ds.Tair[0].plot.pcolormesh(ax=ax, transform=ccrs.PlateCarree(), x='xc', y='yc', add_colorbar=False)\n",
    "ax.coastlines()\n",
    "ax.set_ylim([0,90]);\n"
   ]
  },
  {
   "cell_type": "code",
   "execution_count": 5,
   "id": "97a711ce-7e10-4266-9a83-c946e6af85d9",
   "metadata": {},
   "outputs": [
    {
     "data": {
      "text/plain": [
       "(0.0034942626682444296, 359.9998092651382)"
      ]
     },
     "execution_count": 5,
     "metadata": {},
     "output_type": "execute_result"
    }
   ],
   "source": [
    "float(ds['xc'].min()), float(ds['xc'].max())"
   ]
  },
  {
   "cell_type": "code",
   "execution_count": 6,
   "id": "f529b3e1-92de-43da-a1b7-90678f842a63",
   "metadata": {},
   "outputs": [
    {
     "data": {
      "text/plain": [
       "(-179.99473432345633, 179.99690107148643)"
      ]
     },
     "execution_count": 6,
     "metadata": {},
     "output_type": "execute_result"
    }
   ],
   "source": [
    "ds['xc'] = ds['xc'].where(ds['xc'] < 180, ds['xc'] - 360)\n",
    "float(ds['xc'].min()), float(ds['xc'].max())"
   ]
  },
  {
   "cell_type": "code",
   "execution_count": 7,
   "id": "03c70d82-4590-4eb7-9c12-e667d9181b8e",
   "metadata": {},
   "outputs": [
    {
     "data": {
      "text/plain": [
       "HDF5TileCubeStorage referencing: rasm_test.hdf5\n",
       "No zoom levels initialized."
      ]
     },
     "execution_count": 7,
     "metadata": {},
     "output_type": "execute_result"
    }
   ],
   "source": [
    "store = tilecube.storage.HDF5TileCubeStorage('rasm_test.hdf5', mode='w')\n",
    "store.open()\n",
    "store"
   ]
  },
  {
   "cell_type": "code",
   "execution_count": 8,
   "id": "ab66e05b-a65b-4861-ae50-d37fe012f338",
   "metadata": {},
   "outputs": [
    {
     "data": {
      "text/plain": [
       "TileCube object with input grid dimensions: y=(205, 275), x=(205, 275)\n",
       "References storage object: \n",
       "\tHDF5TileCubeStorage referencing: rasm_test.hdf5\n",
       "\tNo zoom levels initialized."
      ]
     },
     "execution_count": 8,
     "metadata": {},
     "output_type": "execute_result"
    }
   ],
   "source": [
    "tc = tilecube.from_grid(ds['yc'], ds['xc'], storage=store)\n",
    "tc"
   ]
  },
  {
   "cell_type": "code",
   "execution_count": 9,
   "id": "a47f3a07-1a72-4da5-9290-b3a9faeeb4ea",
   "metadata": {},
   "outputs": [
    {
     "name": "stderr",
     "output_type": "stream",
     "text": [
      "100%|██████████| 1/1 [00:06<00:00,  6.13s/it]\n"
     ]
    }
   ],
   "source": [
    "tc.generate_zoom_level_tilers(0, 'nearest_s2d')"
   ]
  },
  {
   "cell_type": "code",
   "execution_count": 10,
   "id": "361fe775-140f-4873-91f5-36019aa7d684",
   "metadata": {},
   "outputs": [
    {
     "data": {
      "text/plain": [
       "TileCube object with input grid dimensions: y=(205, 275), x=(205, 275)\n",
       "References storage object: \n",
       "\tHDF5TileCubeStorage referencing: rasm_test.hdf5\n",
       "\t\tZ=0: 1 / 1 tiles exist, 0 missing.\n",
       "\t"
      ]
     },
     "execution_count": 10,
     "metadata": {},
     "output_type": "execute_result"
    }
   ],
   "source": [
    "tc"
   ]
  },
  {
   "cell_type": "code",
   "execution_count": 11,
   "id": "e1792198-6dfb-4304-a70b-a1666e3f1fee",
   "metadata": {},
   "outputs": [],
   "source": [
    "store.close()"
   ]
  },
  {
   "cell_type": "code",
   "execution_count": 12,
   "id": "5f5b2546-2fd1-4b9e-a6f4-0c2e3db7f5cc",
   "metadata": {},
   "outputs": [
    {
     "name": "stderr",
     "output_type": "stream",
     "text": [
      " 25%|██▌       | 1/4 [00:00<00:01,  2.87it/s]/Users/aron/opt/anaconda3/envs/sci-tiler/lib/python3.9/site-packages/xesmf/backend.py:53: UserWarning: Latitude is outside of [-90, 90]\n",
      "  warnings.warn('Latitude is outside of [-90, 90]')\n",
      "100%|██████████| 4/4 [00:04<00:00,  1.00s/it]\n"
     ]
    },
    {
     "data": {
      "text/plain": [
       "TileCube object with input grid dimensions: y=(205, 275), x=(205, 275)\n",
       "References storage object: \n",
       "\tHDF5TileCubeStorage referencing: rasm_test.hdf5\n",
       "\t\tZ=0: 1 / 1 tiles exist, 0 missing.\n",
       "\t\tZ=1: 2 / 4 tiles exist, 0 missing.\n",
       "\t"
      ]
     },
     "execution_count": 12,
     "metadata": {},
     "output_type": "execute_result"
    }
   ],
   "source": [
    "store = tilecube.storage.HDF5TileCubeStorage('rasm_test.hdf5')\n",
    "store.open()\n",
    "tc = tilecube.from_storage(store)\n",
    "tc.generate_zoom_level_tilers(1, 'nearest_s2d')\n",
    "tc"
   ]
  },
  {
   "cell_type": "markdown",
   "id": "dc6ddea1-9cc7-45f7-bbb5-893730eb2f28",
   "metadata": {},
   "source": [
    "You can also generate all the tilers for a range of zoom levels by passing a list to `generate_zoom_level_tilers`.\n",
    "\n",
    "Remember, the number of tiles go up as the square of the zoom level, so in that sense the runtime will go up exponentially. This is somewhat mitigated by the fact that the smaller tiles at higher zoom levels have less data to compute weight matrices for, so the calculation of an individual tile is somewhat faster (though this is only generally true, not necessarily in all cases or for all zoom levels). \n"
   ]
  },
  {
   "cell_type": "code",
   "execution_count": 13,
   "id": "58c9d4f9-db01-4213-99cd-85771bd18997",
   "metadata": {},
   "outputs": [
    {
     "name": "stderr",
     "output_type": "stream",
     "text": [
      "100%|██████████| 8/8 [00:04<00:00,  1.72it/s]\n",
      "100%|██████████| 8/8 [00:05<00:00,  1.35it/s]\n",
      "100%|██████████| 16/16 [00:12<00:00,  1.24it/s]\n",
      "100%|██████████| 48/48 [00:41<00:00,  1.17it/s]\n"
     ]
    },
    {
     "data": {
      "text/plain": [
       "TileCube object with input grid dimensions: y=(205, 275), x=(205, 275)\n",
       "References storage object: \n",
       "\tHDF5TileCubeStorage referencing: rasm_test.hdf5\n",
       "\t\tZ=0: 1 / 1 tiles exist, 0 missing.\n",
       "\t\tZ=1: 2 / 4 tiles exist, 0 missing.\n",
       "\t\tZ=2: 2 / 16 tiles exist, 0 missing.\n",
       "\t\tZ=3: 4 / 64 tiles exist, 0 missing.\n",
       "\t\tZ=4: 12 / 256 tiles exist, 0 missing.\n",
       "\t\tZ=5: 33 / 1024 tiles exist, 0 missing.\n",
       "\t"
      ]
     },
     "execution_count": 13,
     "metadata": {},
     "output_type": "execute_result"
    }
   ],
   "source": [
    "tc.generate_zoom_level_tilers(range(2, 6), 'nearest_s2d')\n",
    "tc"
   ]
  },
  {
   "cell_type": "markdown",
   "id": "ae57459c-6e80-4260-8bfd-8cbffb36fb50",
   "metadata": {},
   "source": [
    "The number of tiles calculated at each zoom level might be a bit confusing. An important optimization of TileCube is that `Tilers` are only calculated and stored when a tile intersects the source data grid. At higher zoom levels, the fraction of tiles which intersect the grid will go down as the smaller tiles more accurately follow the boundary of the source grid edge. This may happen abruptly in the case of data which is rectangular in the web-mercator projection. \n",
    "\n",
    "When a subsequent zoom level is calculated, the starting point is the zoom level above - the \"parent\" zoom level. Remember that each tile in the parent level is split into four children tiles. If the parent tile doesn't intersect the source data grid, then we know that the children won't either so we don't even need to try to calculate them. "
   ]
  },
  {
   "cell_type": "markdown",
   "id": "26fc04fb-0fed-442f-961c-2128c06ee124",
   "metadata": {},
   "source": [
    "Don't forget that the `TileCubeStore` we are working with is backed by an HDF5 File, so we need to close the store when we're done with it:"
   ]
  },
  {
   "cell_type": "code",
   "execution_count": 14,
   "id": "583e2d72-0e57-49b3-8964-cc26c1d3776d",
   "metadata": {},
   "outputs": [],
   "source": [
    "store.close()"
   ]
  },
  {
   "cell_type": "code",
   "execution_count": null,
   "id": "2f36f728-bf31-431f-acac-c66a7ef37213",
   "metadata": {},
   "outputs": [],
   "source": []
  },
  {
   "cell_type": "code",
   "execution_count": null,
   "id": "84f58abf-5a1d-4a93-90ff-deda656647c1",
   "metadata": {},
   "outputs": [],
   "source": []
  },
  {
   "cell_type": "code",
   "execution_count": 16,
   "id": "560b9fc2-1adc-4299-a0b8-c1620e7716c3",
   "metadata": {
    "tags": []
   },
   "outputs": [
    {
     "data": {
      "application/vnd.jupyter.widget-view+json": {
       "model_id": "8840b07c99164977aa1aff58b27ebfa9",
       "version_major": 2,
       "version_minor": 0
      },
      "text/plain": [
       "Map(center=[0.0, 0.0], controls=(ZoomControl(options=['position', 'zoom_in_text', 'zoom_in_title', 'zoom_out_t…"
      ]
     },
     "metadata": {},
     "output_type": "display_data"
    }
   ],
   "source": [
    "m = Map(basemap=basemaps.OpenStreetMap.Mapnik, zoom=0)\n",
    "layer = TileLayer(url='http://localhost:5000/0/{z}/{x}/{y}.png')\n",
    "m.add_layer(layer)\n",
    "\n",
    "def update_time(change):\n",
    "    url = 'http://localhost:5000/' + str(time_slider.value) + '/{z}/{x}/{y}.png'\n",
    "    print(url)\n",
    "    layer.url = url\n",
    "\n",
    "time_slider = IntSlider(description='Time Step:', min=0, max=25, value=0)\n",
    "time_slider.observe(update_time, 'value')\n",
    "# jslink((time_slider, 'value'), (layer, 'url'))\n",
    "time_control = WidgetControl(widget=time_slider, position='topright')\n",
    "m.add_control(time_control) \n",
    "\n",
    "m"
   ]
  },
  {
   "cell_type": "code",
   "execution_count": null,
   "id": "a6af593b-bb4f-4cb5-8bde-abe9dcbce46e",
   "metadata": {},
   "outputs": [],
   "source": []
  },
  {
   "cell_type": "code",
   "execution_count": 17,
   "id": "51c3427a-5a73-4695-bca4-e6722b9a6e54",
   "metadata": {},
   "outputs": [
    {
     "data": {
      "text/plain": [
       "HDF5TileCubeStorage referencing: rasm_test.hdf5\n",
       "No zoom levels initialized."
      ]
     },
     "execution_count": 17,
     "metadata": {},
     "output_type": "execute_result"
    }
   ],
   "source": [
    "store.close()"
   ]
  },
  {
   "cell_type": "code",
   "execution_count": null,
   "id": "c564b9f0-ecd3-40f7-9dd5-b87174559972",
   "metadata": {},
   "outputs": [],
   "source": []
  }
 ],
 "metadata": {
  "kernelspec": {
   "display_name": "Python 3",
   "language": "python",
   "name": "python3"
  },
  "language_info": {
   "codemirror_mode": {
    "name": "ipython",
    "version": 3
   },
   "file_extension": ".py",
   "mimetype": "text/x-python",
   "name": "python",
   "nbconvert_exporter": "python",
   "pygments_lexer": "ipython3",
   "version": "3.9.4"
  }
 },
 "nbformat": 4,
 "nbformat_minor": 5
}
